{
  "nbformat": 4,
  "nbformat_minor": 0,
  "metadata": {
    "colab": {
      "name": "Titanic.ipynb",
      "provenance": [],
      "authorship_tag": "ABX9TyPioDvrYT+nEQB6mMn6nEsV",
      "include_colab_link": true
    },
    "kernelspec": {
      "name": "python3",
      "display_name": "Python 3"
    },
    "language_info": {
      "name": "python"
    }
  },
  "cells": [
    {
      "cell_type": "markdown",
      "metadata": {
        "id": "view-in-github",
        "colab_type": "text"
      },
      "source": [
        "<a href=\"https://colab.research.google.com/github/yuli-05/Titanic/blob/main/Titanic.ipynb\" target=\"_parent\"><img src=\"https://colab.research.google.com/assets/colab-badge.svg\" alt=\"Open In Colab\"/></a>"
      ]
    },
    {
      "cell_type": "markdown",
      "source": [
        "# **Datos personales**\n",
        "Nombre: **Julissa Dominguez Badillo**\n",
        "\n",
        "Matricula: **1718110384**\n",
        "\n",
        "Grupo: **IDGS91**\n",
        "\n",
        "Materia: **Extracción de conocimientos de bases de datos**"
      ],
      "metadata": {
        "id": "gUlQ3404nPYP"
      }
    },
    {
      "cell_type": "markdown",
      "source": [
        "# **Importar librerias**"
      ],
      "metadata": {
        "id": "2AT5i2Z_nc-V"
      }
    },
    {
      "cell_type": "code",
      "execution_count": 1,
      "metadata": {
        "id": "xzLlNnTbXOet"
      },
      "outputs": [],
      "source": [
        "import pandas as pd\n",
        "import numpy as np\n",
        "import matplotlib.pyplot as plt\n",
        "\n",
        "from sklearn.linear_model import LogisticRegression \n",
        "from sklearn.model_selection import train_test_split \n",
        "\n",
        "#Metricas \n",
        "from sklearn.metrics import accuracy_score, precision_score, recall_score, f1_score  \n",
        "from sklearn.metrics import classification_report \n",
        "from sklearn.metrics import confusion_matrix \n",
        "from sklearn.metrics import plot_confusion_matrix \n",
        "\n",
        "pd.options.display.max_columns = 9"
      ]
    },
    {
      "cell_type": "markdown",
      "source": [
        "# **Importar dataset**"
      ],
      "metadata": {
        "id": "XTaqbfnInkVn"
      }
    },
    {
      "cell_type": "code",
      "source": [
        "df = pd.read_csv(\"titanic.csv\")"
      ],
      "metadata": {
        "id": "oaJ5aP_ZpJzT"
      },
      "execution_count": 2,
      "outputs": []
    },
    {
      "cell_type": "markdown",
      "source": [
        "# **Analizar dataframe**"
      ],
      "metadata": {
        "id": "WokWMZNtpPSf"
      }
    },
    {
      "cell_type": "code",
      "source": [
        "df.info()"
      ],
      "metadata": {
        "colab": {
          "base_uri": "https://localhost:8080/",
          "height": 0
        },
        "id": "3WVF-N8tpRC_",
        "outputId": "1c4054f8-bace-4b50-b82d-787b741b3106"
      },
      "execution_count": 3,
      "outputs": [
        {
          "output_type": "stream",
          "name": "stdout",
          "text": [
            "<class 'pandas.core.frame.DataFrame'>\n",
            "RangeIndex: 887 entries, 0 to 886\n",
            "Data columns (total 7 columns):\n",
            " #   Column            Non-Null Count  Dtype  \n",
            "---  ------            --------------  -----  \n",
            " 0   Survived          887 non-null    int64  \n",
            " 1   Pclass            887 non-null    int64  \n",
            " 2   Sex               887 non-null    object \n",
            " 3   Age               887 non-null    float64\n",
            " 4   Siblings/Spouses  887 non-null    int64  \n",
            " 5   Parents/Children  887 non-null    int64  \n",
            " 6   Fare              887 non-null    float64\n",
            "dtypes: float64(2), int64(4), object(1)\n",
            "memory usage: 48.6+ KB\n"
          ]
        }
      ]
    },
    {
      "cell_type": "code",
      "source": [
        "df.head()"
      ],
      "metadata": {
        "colab": {
          "base_uri": "https://localhost:8080/",
          "height": 206
        },
        "id": "OlYNtoqtpYBK",
        "outputId": "6bc7ce2d-2361-4a65-e9f7-6683f0327d60"
      },
      "execution_count": 4,
      "outputs": [
        {
          "output_type": "execute_result",
          "data": {
            "text/html": [
              "<div>\n",
              "<style scoped>\n",
              "    .dataframe tbody tr th:only-of-type {\n",
              "        vertical-align: middle;\n",
              "    }\n",
              "\n",
              "    .dataframe tbody tr th {\n",
              "        vertical-align: top;\n",
              "    }\n",
              "\n",
              "    .dataframe thead th {\n",
              "        text-align: right;\n",
              "    }\n",
              "</style>\n",
              "<table border=\"1\" class=\"dataframe\">\n",
              "  <thead>\n",
              "    <tr style=\"text-align: right;\">\n",
              "      <th></th>\n",
              "      <th>Survived</th>\n",
              "      <th>Pclass</th>\n",
              "      <th>Sex</th>\n",
              "      <th>Age</th>\n",
              "      <th>Siblings/Spouses</th>\n",
              "      <th>Parents/Children</th>\n",
              "      <th>Fare</th>\n",
              "    </tr>\n",
              "  </thead>\n",
              "  <tbody>\n",
              "    <tr>\n",
              "      <th>0</th>\n",
              "      <td>0</td>\n",
              "      <td>3</td>\n",
              "      <td>male</td>\n",
              "      <td>22.0</td>\n",
              "      <td>1</td>\n",
              "      <td>0</td>\n",
              "      <td>7.2500</td>\n",
              "    </tr>\n",
              "    <tr>\n",
              "      <th>1</th>\n",
              "      <td>1</td>\n",
              "      <td>1</td>\n",
              "      <td>female</td>\n",
              "      <td>38.0</td>\n",
              "      <td>1</td>\n",
              "      <td>0</td>\n",
              "      <td>71.2833</td>\n",
              "    </tr>\n",
              "    <tr>\n",
              "      <th>2</th>\n",
              "      <td>1</td>\n",
              "      <td>3</td>\n",
              "      <td>female</td>\n",
              "      <td>26.0</td>\n",
              "      <td>0</td>\n",
              "      <td>0</td>\n",
              "      <td>7.9250</td>\n",
              "    </tr>\n",
              "    <tr>\n",
              "      <th>3</th>\n",
              "      <td>1</td>\n",
              "      <td>1</td>\n",
              "      <td>female</td>\n",
              "      <td>35.0</td>\n",
              "      <td>1</td>\n",
              "      <td>0</td>\n",
              "      <td>53.1000</td>\n",
              "    </tr>\n",
              "    <tr>\n",
              "      <th>4</th>\n",
              "      <td>0</td>\n",
              "      <td>3</td>\n",
              "      <td>male</td>\n",
              "      <td>35.0</td>\n",
              "      <td>0</td>\n",
              "      <td>0</td>\n",
              "      <td>8.0500</td>\n",
              "    </tr>\n",
              "  </tbody>\n",
              "</table>\n",
              "</div>"
            ],
            "text/plain": [
              "   Survived  Pclass     Sex   Age  Siblings/Spouses  Parents/Children     Fare\n",
              "0         0       3    male  22.0                 1                 0   7.2500\n",
              "1         1       1  female  38.0                 1                 0  71.2833\n",
              "2         1       3  female  26.0                 0                 0   7.9250\n",
              "3         1       1  female  35.0                 1                 0  53.1000\n",
              "4         0       3    male  35.0                 0                 0   8.0500"
            ]
          },
          "metadata": {},
          "execution_count": 4
        }
      ]
    },
    {
      "cell_type": "code",
      "source": [
        "df.describe()"
      ],
      "metadata": {
        "colab": {
          "base_uri": "https://localhost:8080/",
          "height": 300
        },
        "id": "bg-Tc9RHpcOs",
        "outputId": "79af8bf2-d9aa-45bb-c807-a8933296e4df"
      },
      "execution_count": 5,
      "outputs": [
        {
          "output_type": "execute_result",
          "data": {
            "text/html": [
              "<div>\n",
              "<style scoped>\n",
              "    .dataframe tbody tr th:only-of-type {\n",
              "        vertical-align: middle;\n",
              "    }\n",
              "\n",
              "    .dataframe tbody tr th {\n",
              "        vertical-align: top;\n",
              "    }\n",
              "\n",
              "    .dataframe thead th {\n",
              "        text-align: right;\n",
              "    }\n",
              "</style>\n",
              "<table border=\"1\" class=\"dataframe\">\n",
              "  <thead>\n",
              "    <tr style=\"text-align: right;\">\n",
              "      <th></th>\n",
              "      <th>Survived</th>\n",
              "      <th>Pclass</th>\n",
              "      <th>Age</th>\n",
              "      <th>Siblings/Spouses</th>\n",
              "      <th>Parents/Children</th>\n",
              "      <th>Fare</th>\n",
              "    </tr>\n",
              "  </thead>\n",
              "  <tbody>\n",
              "    <tr>\n",
              "      <th>count</th>\n",
              "      <td>887.000000</td>\n",
              "      <td>887.000000</td>\n",
              "      <td>887.000000</td>\n",
              "      <td>887.000000</td>\n",
              "      <td>887.000000</td>\n",
              "      <td>887.00000</td>\n",
              "    </tr>\n",
              "    <tr>\n",
              "      <th>mean</th>\n",
              "      <td>0.385569</td>\n",
              "      <td>2.305524</td>\n",
              "      <td>29.471443</td>\n",
              "      <td>0.525366</td>\n",
              "      <td>0.383315</td>\n",
              "      <td>32.30542</td>\n",
              "    </tr>\n",
              "    <tr>\n",
              "      <th>std</th>\n",
              "      <td>0.487004</td>\n",
              "      <td>0.836662</td>\n",
              "      <td>14.121908</td>\n",
              "      <td>1.104669</td>\n",
              "      <td>0.807466</td>\n",
              "      <td>49.78204</td>\n",
              "    </tr>\n",
              "    <tr>\n",
              "      <th>min</th>\n",
              "      <td>0.000000</td>\n",
              "      <td>1.000000</td>\n",
              "      <td>0.420000</td>\n",
              "      <td>0.000000</td>\n",
              "      <td>0.000000</td>\n",
              "      <td>0.00000</td>\n",
              "    </tr>\n",
              "    <tr>\n",
              "      <th>25%</th>\n",
              "      <td>0.000000</td>\n",
              "      <td>2.000000</td>\n",
              "      <td>20.250000</td>\n",
              "      <td>0.000000</td>\n",
              "      <td>0.000000</td>\n",
              "      <td>7.92500</td>\n",
              "    </tr>\n",
              "    <tr>\n",
              "      <th>50%</th>\n",
              "      <td>0.000000</td>\n",
              "      <td>3.000000</td>\n",
              "      <td>28.000000</td>\n",
              "      <td>0.000000</td>\n",
              "      <td>0.000000</td>\n",
              "      <td>14.45420</td>\n",
              "    </tr>\n",
              "    <tr>\n",
              "      <th>75%</th>\n",
              "      <td>1.000000</td>\n",
              "      <td>3.000000</td>\n",
              "      <td>38.000000</td>\n",
              "      <td>1.000000</td>\n",
              "      <td>0.000000</td>\n",
              "      <td>31.13750</td>\n",
              "    </tr>\n",
              "    <tr>\n",
              "      <th>max</th>\n",
              "      <td>1.000000</td>\n",
              "      <td>3.000000</td>\n",
              "      <td>80.000000</td>\n",
              "      <td>8.000000</td>\n",
              "      <td>6.000000</td>\n",
              "      <td>512.32920</td>\n",
              "    </tr>\n",
              "  </tbody>\n",
              "</table>\n",
              "</div>"
            ],
            "text/plain": [
              "         Survived      Pclass         Age  Siblings/Spouses  Parents/Children  \\\n",
              "count  887.000000  887.000000  887.000000        887.000000        887.000000   \n",
              "mean     0.385569    2.305524   29.471443          0.525366          0.383315   \n",
              "std      0.487004    0.836662   14.121908          1.104669          0.807466   \n",
              "min      0.000000    1.000000    0.420000          0.000000          0.000000   \n",
              "25%      0.000000    2.000000   20.250000          0.000000          0.000000   \n",
              "50%      0.000000    3.000000   28.000000          0.000000          0.000000   \n",
              "75%      1.000000    3.000000   38.000000          1.000000          0.000000   \n",
              "max      1.000000    3.000000   80.000000          8.000000          6.000000   \n",
              "\n",
              "            Fare  \n",
              "count  887.00000  \n",
              "mean    32.30542  \n",
              "std     49.78204  \n",
              "min      0.00000  \n",
              "25%      7.92500  \n",
              "50%     14.45420  \n",
              "75%     31.13750  \n",
              "max    512.32920  "
            ]
          },
          "metadata": {},
          "execution_count": 5
        }
      ]
    },
    {
      "cell_type": "markdown",
      "source": [
        "# **Crear columna Feature Engine**"
      ],
      "metadata": {
        "id": "H_rwGg9BpU-G"
      }
    },
    {
      "cell_type": "code",
      "source": [
        "df['Male'] = df['Sex'] == 'male'"
      ],
      "metadata": {
        "id": "7iIoIB-Kpk8C"
      },
      "execution_count": 6,
      "outputs": []
    },
    {
      "cell_type": "code",
      "source": [
        "df.head()"
      ],
      "metadata": {
        "colab": {
          "base_uri": "https://localhost:8080/",
          "height": 206
        },
        "id": "t2WYbzAYppge",
        "outputId": "041b2fb1-9cfd-426e-92ce-798e80ffb517"
      },
      "execution_count": 7,
      "outputs": [
        {
          "output_type": "execute_result",
          "data": {
            "text/html": [
              "<div>\n",
              "<style scoped>\n",
              "    .dataframe tbody tr th:only-of-type {\n",
              "        vertical-align: middle;\n",
              "    }\n",
              "\n",
              "    .dataframe tbody tr th {\n",
              "        vertical-align: top;\n",
              "    }\n",
              "\n",
              "    .dataframe thead th {\n",
              "        text-align: right;\n",
              "    }\n",
              "</style>\n",
              "<table border=\"1\" class=\"dataframe\">\n",
              "  <thead>\n",
              "    <tr style=\"text-align: right;\">\n",
              "      <th></th>\n",
              "      <th>Survived</th>\n",
              "      <th>Pclass</th>\n",
              "      <th>Sex</th>\n",
              "      <th>Age</th>\n",
              "      <th>Siblings/Spouses</th>\n",
              "      <th>Parents/Children</th>\n",
              "      <th>Fare</th>\n",
              "      <th>Male</th>\n",
              "    </tr>\n",
              "  </thead>\n",
              "  <tbody>\n",
              "    <tr>\n",
              "      <th>0</th>\n",
              "      <td>0</td>\n",
              "      <td>3</td>\n",
              "      <td>male</td>\n",
              "      <td>22.0</td>\n",
              "      <td>1</td>\n",
              "      <td>0</td>\n",
              "      <td>7.2500</td>\n",
              "      <td>True</td>\n",
              "    </tr>\n",
              "    <tr>\n",
              "      <th>1</th>\n",
              "      <td>1</td>\n",
              "      <td>1</td>\n",
              "      <td>female</td>\n",
              "      <td>38.0</td>\n",
              "      <td>1</td>\n",
              "      <td>0</td>\n",
              "      <td>71.2833</td>\n",
              "      <td>False</td>\n",
              "    </tr>\n",
              "    <tr>\n",
              "      <th>2</th>\n",
              "      <td>1</td>\n",
              "      <td>3</td>\n",
              "      <td>female</td>\n",
              "      <td>26.0</td>\n",
              "      <td>0</td>\n",
              "      <td>0</td>\n",
              "      <td>7.9250</td>\n",
              "      <td>False</td>\n",
              "    </tr>\n",
              "    <tr>\n",
              "      <th>3</th>\n",
              "      <td>1</td>\n",
              "      <td>1</td>\n",
              "      <td>female</td>\n",
              "      <td>35.0</td>\n",
              "      <td>1</td>\n",
              "      <td>0</td>\n",
              "      <td>53.1000</td>\n",
              "      <td>False</td>\n",
              "    </tr>\n",
              "    <tr>\n",
              "      <th>4</th>\n",
              "      <td>0</td>\n",
              "      <td>3</td>\n",
              "      <td>male</td>\n",
              "      <td>35.0</td>\n",
              "      <td>0</td>\n",
              "      <td>0</td>\n",
              "      <td>8.0500</td>\n",
              "      <td>True</td>\n",
              "    </tr>\n",
              "  </tbody>\n",
              "</table>\n",
              "</div>"
            ],
            "text/plain": [
              "   Survived  Pclass     Sex   Age  Siblings/Spouses  Parents/Children  \\\n",
              "0         0       3    male  22.0                 1                 0   \n",
              "1         1       1  female  38.0                 1                 0   \n",
              "2         1       3  female  26.0                 0                 0   \n",
              "3         1       1  female  35.0                 1                 0   \n",
              "4         0       3    male  35.0                 0                 0   \n",
              "\n",
              "      Fare   Male  \n",
              "0   7.2500   True  \n",
              "1  71.2833  False  \n",
              "2   7.9250  False  \n",
              "3  53.1000  False  \n",
              "4   8.0500   True  "
            ]
          },
          "metadata": {},
          "execution_count": 7
        }
      ]
    },
    {
      "cell_type": "code",
      "source": [
        "df.describe()"
      ],
      "metadata": {
        "colab": {
          "base_uri": "https://localhost:8080/",
          "height": 300
        },
        "id": "UssXBruOprKp",
        "outputId": "2e17bc17-da1f-41cf-8ec8-df874082e43b"
      },
      "execution_count": 8,
      "outputs": [
        {
          "output_type": "execute_result",
          "data": {
            "text/html": [
              "<div>\n",
              "<style scoped>\n",
              "    .dataframe tbody tr th:only-of-type {\n",
              "        vertical-align: middle;\n",
              "    }\n",
              "\n",
              "    .dataframe tbody tr th {\n",
              "        vertical-align: top;\n",
              "    }\n",
              "\n",
              "    .dataframe thead th {\n",
              "        text-align: right;\n",
              "    }\n",
              "</style>\n",
              "<table border=\"1\" class=\"dataframe\">\n",
              "  <thead>\n",
              "    <tr style=\"text-align: right;\">\n",
              "      <th></th>\n",
              "      <th>Survived</th>\n",
              "      <th>Pclass</th>\n",
              "      <th>Age</th>\n",
              "      <th>Siblings/Spouses</th>\n",
              "      <th>Parents/Children</th>\n",
              "      <th>Fare</th>\n",
              "    </tr>\n",
              "  </thead>\n",
              "  <tbody>\n",
              "    <tr>\n",
              "      <th>count</th>\n",
              "      <td>887.000000</td>\n",
              "      <td>887.000000</td>\n",
              "      <td>887.000000</td>\n",
              "      <td>887.000000</td>\n",
              "      <td>887.000000</td>\n",
              "      <td>887.00000</td>\n",
              "    </tr>\n",
              "    <tr>\n",
              "      <th>mean</th>\n",
              "      <td>0.385569</td>\n",
              "      <td>2.305524</td>\n",
              "      <td>29.471443</td>\n",
              "      <td>0.525366</td>\n",
              "      <td>0.383315</td>\n",
              "      <td>32.30542</td>\n",
              "    </tr>\n",
              "    <tr>\n",
              "      <th>std</th>\n",
              "      <td>0.487004</td>\n",
              "      <td>0.836662</td>\n",
              "      <td>14.121908</td>\n",
              "      <td>1.104669</td>\n",
              "      <td>0.807466</td>\n",
              "      <td>49.78204</td>\n",
              "    </tr>\n",
              "    <tr>\n",
              "      <th>min</th>\n",
              "      <td>0.000000</td>\n",
              "      <td>1.000000</td>\n",
              "      <td>0.420000</td>\n",
              "      <td>0.000000</td>\n",
              "      <td>0.000000</td>\n",
              "      <td>0.00000</td>\n",
              "    </tr>\n",
              "    <tr>\n",
              "      <th>25%</th>\n",
              "      <td>0.000000</td>\n",
              "      <td>2.000000</td>\n",
              "      <td>20.250000</td>\n",
              "      <td>0.000000</td>\n",
              "      <td>0.000000</td>\n",
              "      <td>7.92500</td>\n",
              "    </tr>\n",
              "    <tr>\n",
              "      <th>50%</th>\n",
              "      <td>0.000000</td>\n",
              "      <td>3.000000</td>\n",
              "      <td>28.000000</td>\n",
              "      <td>0.000000</td>\n",
              "      <td>0.000000</td>\n",
              "      <td>14.45420</td>\n",
              "    </tr>\n",
              "    <tr>\n",
              "      <th>75%</th>\n",
              "      <td>1.000000</td>\n",
              "      <td>3.000000</td>\n",
              "      <td>38.000000</td>\n",
              "      <td>1.000000</td>\n",
              "      <td>0.000000</td>\n",
              "      <td>31.13750</td>\n",
              "    </tr>\n",
              "    <tr>\n",
              "      <th>max</th>\n",
              "      <td>1.000000</td>\n",
              "      <td>3.000000</td>\n",
              "      <td>80.000000</td>\n",
              "      <td>8.000000</td>\n",
              "      <td>6.000000</td>\n",
              "      <td>512.32920</td>\n",
              "    </tr>\n",
              "  </tbody>\n",
              "</table>\n",
              "</div>"
            ],
            "text/plain": [
              "         Survived      Pclass         Age  Siblings/Spouses  Parents/Children  \\\n",
              "count  887.000000  887.000000  887.000000        887.000000        887.000000   \n",
              "mean     0.385569    2.305524   29.471443          0.525366          0.383315   \n",
              "std      0.487004    0.836662   14.121908          1.104669          0.807466   \n",
              "min      0.000000    1.000000    0.420000          0.000000          0.000000   \n",
              "25%      0.000000    2.000000   20.250000          0.000000          0.000000   \n",
              "50%      0.000000    3.000000   28.000000          0.000000          0.000000   \n",
              "75%      1.000000    3.000000   38.000000          1.000000          0.000000   \n",
              "max      1.000000    3.000000   80.000000          8.000000          6.000000   \n",
              "\n",
              "            Fare  \n",
              "count  887.00000  \n",
              "mean    32.30542  \n",
              "std     49.78204  \n",
              "min      0.00000  \n",
              "25%      7.92500  \n",
              "50%     14.45420  \n",
              "75%     31.13750  \n",
              "max    512.32920  "
            ]
          },
          "metadata": {},
          "execution_count": 8
        }
      ]
    },
    {
      "cell_type": "code",
      "source": [
        "df['Male'].sum()"
      ],
      "metadata": {
        "colab": {
          "base_uri": "https://localhost:8080/",
          "height": 0
        },
        "id": "mQh3plsfpwVX",
        "outputId": "0e205b7c-b3e7-4b0a-f172-cad8233ade0d"
      },
      "execution_count": 9,
      "outputs": [
        {
          "output_type": "execute_result",
          "data": {
            "text/plain": [
              "573"
            ]
          },
          "metadata": {},
          "execution_count": 9
        }
      ]
    },
    {
      "cell_type": "markdown",
      "source": [
        "# **Scatter plot**"
      ],
      "metadata": {
        "id": "YhFfd-yRpznB"
      }
    },
    {
      "cell_type": "code",
      "source": [
        "plt.figure(figsize=(8,5))\n",
        "plt.scatter(df['Fare'], df['Age'], c=df['Pclass'])\n",
        "plt.xlabel(\"Fare\")\n",
        "plt.ylabel(\"Age\")"
      ],
      "metadata": {
        "colab": {
          "base_uri": "https://localhost:8080/",
          "height": 351
        },
        "id": "84oseNP4p2wV",
        "outputId": "0612085c-21ae-43b8-90ed-ae55a00d1294"
      },
      "execution_count": 10,
      "outputs": [
        {
          "output_type": "execute_result",
          "data": {
            "text/plain": [
              "Text(0, 0.5, 'Age')"
            ]
          },
          "metadata": {},
          "execution_count": 10
        },
        {
          "output_type": "display_data",
          "data": {
            "image/png": "[encoded data removed]",
            "text/plain": [
              "<Figure size 576x360 with 1 Axes>"
            ]
          },
          "metadata": {
            "needs_background": "light"
          }
        }
      ]
    },
    {
      "cell_type": "code",
      "source": [
        "plt.figure(figsize=(8,5))\n",
        "plt.scatter(df['Fare'], df['Age'], c=df['Male'], marker=\"x\")\n",
        "plt.xlabel(\"Fare\")\n",
        "plt.ylabel(\"Age\")"
      ],
      "metadata": {
        "colab": {
          "base_uri": "https://localhost:8080/",
          "height": 351
        },
        "id": "I4Q4offLp9yP",
        "outputId": "ad4c1ee9-6439-4ad2-b871-b85fa2232a89"
      },
      "execution_count": 11,
      "outputs": [
        {
          "output_type": "execute_result",
          "data": {
            "text/plain": [
              "Text(0, 0.5, 'Age')"
            ]
          },
          "metadata": {},
          "execution_count": 11
        },
        {
          "output_type": "display_data",
          "data": {
            "image/png": "[encoded data removed]",
            "text/plain": [
              "<Figure size 576x360 with 1 Axes>"
            ]
          },
          "metadata": {
            "needs_background": "light"
          }
        }
      ]
    },
    {
      "cell_type": "markdown",
      "source": [
        "# **Separar caracteristicas y objetivo**"
      ],
      "metadata": {
        "id": "TA-PPsaTqDXF"
      }
    },
    {
      "cell_type": "code",
      "source": [
        "X = df[['Pclass','Age','Siblings/Spouses','Parents/Children','Fare','Male']].values\n",
        "y = df['Survived'].values"
      ],
      "metadata": {
        "id": "walhfU4NqIE6"
      },
      "execution_count": 12,
      "outputs": []
    },
    {
      "cell_type": "code",
      "source": [
        "X"
      ],
      "metadata": {
        "colab": {
          "base_uri": "https://localhost:8080/",
          "height": 0
        },
        "id": "pQreMTKeqKq-",
        "outputId": "540e66a3-503d-467a-ca49-5b1dcb05d947"
      },
      "execution_count": 14,
      "outputs": [
        {
          "output_type": "execute_result",
          "data": {
            "text/plain": [
              "array([[3, 22.0, 1, 0, 7.25, True],\n",
              "       [1, 38.0, 1, 0, 71.2833, False],\n",
              "       [3, 26.0, 0, 0, 7.925, False],\n",
              "       ...,\n",
              "       [3, 7.0, 1, 2, 23.45, False],\n",
              "       [1, 26.0, 0, 0, 30.0, True],\n",
              "       [3, 32.0, 0, 0, 7.75, True]], dtype=object)"
            ]
          },
          "metadata": {},
          "execution_count": 14
        }
      ]
    },
    {
      "cell_type": "code",
      "source": [
        "y"
      ],
      "metadata": {
        "colab": {
          "base_uri": "https://localhost:8080/",
          "height": 0
        },
        "id": "3LWeuPtBqNdu",
        "outputId": "bb20e713-4bd8-473d-8d22-a61f3703099a"
      },
      "execution_count": 16,
      "outputs": [
        {
          "output_type": "execute_result",
          "data": {
            "text/plain": [
              "array([0, 1, 1, 1, 0, 0, 0, 0, 1, 1, 1, 1, 0, 0, 0, 1, 0, 1, 0, 1, 0, 1,\n",
              "       1, 1, 0, 1, 0, 0, 1, 0, 0, 1, 1, 0, 0, 0, 1, 0, 0, 1, 0, 0, 1, 1,\n",
              "       0, 0, 1, 0, 0, 0, 0, 1, 1, 0, 1, 1, 0, 1, 0, 0, 1, 0, 0, 0, 1, 1,\n",
              "       0, 1, 0, 0, 0, 0, 0, 1, 0, 0, 0, 1, 1, 0, 1, 1, 0, 1, 1, 0, 0, 1,\n",
              "       0, 0, 0, 0, 0, 0, 0, 0, 1, 1, 0, 0, 0, 0, 0, 0, 0, 1, 1, 0, 1, 0,\n",
              "       0, 0, 0, 0, 0, 0, 0, 0, 0, 0, 0, 0, 1, 0, 1, 0, 1, 1, 0, 0, 0, 0,\n",
              "       1, 0, 0, 1, 0, 0, 0, 0, 1, 1, 0, 0, 0, 1, 0, 0, 0, 0, 1, 0, 0, 0,\n",
              "       0, 1, 0, 0, 0, 0, 1, 0, 0, 0, 1, 1, 0, 0, 0, 0, 0, 1, 0, 0, 0, 0,\n",
              "       0, 0, 0, 0, 0, 0, 1, 1, 0, 1, 1, 0, 0, 1, 0, 1, 1, 1, 1, 0, 0, 1,\n",
              "       0, 0, 0, 0, 0, 1, 0, 0, 1, 1, 1, 0, 1, 0, 0, 0, 1, 1, 0, 1, 0, 1,\n",
              "       0, 0, 0, 1, 0, 1, 0, 0, 0, 1, 0, 0, 1, 0, 0, 0, 1, 0, 0, 0, 1, 0,\n",
              "       0, 0, 0, 0, 1, 1, 0, 0, 0, 0, 0, 0, 1, 1, 1, 1, 1, 1, 0, 0, 0, 0,\n",
              "       0, 1, 1, 1, 0, 1, 1, 0, 1, 1, 0, 0, 0, 1, 0, 0, 0, 1, 0, 0, 1, 0,\n",
              "       1, 1, 1, 1, 0, 0, 0, 0, 0, 0, 1, 1, 1, 1, 0, 1, 0, 1, 1, 1, 0, 1,\n",
              "       1, 1, 0, 0, 0, 1, 1, 0, 1, 1, 0, 0, 1, 1, 0, 1, 0, 1, 1, 1, 1, 0,\n",
              "       0, 0, 1, 0, 0, 1, 1, 0, 1, 1, 0, 0, 0, 1, 1, 1, 1, 0, 0, 0, 0, 0,\n",
              "       0, 0, 1, 0, 1, 1, 0, 0, 0, 0, 0, 0, 1, 1, 1, 1, 1, 0, 0, 0, 0, 1,\n",
              "       1, 0, 0, 0, 1, 1, 0, 1, 0, 0, 0, 1, 0, 1, 1, 1, 0, 1, 1, 0, 0, 0,\n",
              "       0, 1, 1, 0, 0, 0, 0, 0, 0, 1, 0, 0, 0, 0, 1, 0, 1, 0, 1, 1, 0, 0,\n",
              "       0, 0, 0, 0, 0, 1, 1, 0, 1, 1, 1, 1, 0, 0, 1, 0, 1, 0, 0, 1, 0, 0,\n",
              "       1, 1, 1, 1, 1, 1, 1, 0, 0, 0, 1, 0, 1, 0, 1, 1, 0, 1, 0, 0, 0, 0,\n",
              "       0, 0, 0, 0, 1, 0, 0, 1, 1, 0, 0, 0, 0, 0, 1, 0, 0, 0, 1, 1, 0, 1,\n",
              "       0, 0, 1, 0, 0, 0, 0, 0, 0, 1, 0, 0, 0, 0, 0, 0, 0, 1, 0, 1, 1, 0,\n",
              "       1, 1, 0, 1, 1, 0, 0, 1, 0, 1, 0, 1, 0, 0, 1, 0, 0, 1, 0, 0, 0, 1,\n",
              "       0, 0, 1, 0, 1, 0, 1, 0, 1, 1, 0, 0, 1, 0, 0, 1, 1, 0, 1, 1, 0, 0,\n",
              "       1, 1, 0, 1, 0, 1, 1, 0, 0, 0, 0, 0, 0, 0, 0, 0, 1, 1, 1, 1, 1, 0,\n",
              "       0, 1, 1, 0, 1, 1, 1, 0, 0, 0, 1, 0, 1, 0, 0, 0, 1, 0, 0, 0, 0, 1,\n",
              "       0, 0, 1, 1, 0, 0, 0, 1, 0, 0, 1, 1, 1, 0, 0, 1, 0, 0, 1, 0, 0, 1,\n",
              "       0, 0, 1, 1, 0, 0, 0, 0, 1, 0, 0, 1, 0, 1, 0, 0, 1, 0, 0, 0, 0, 0,\n",
              "       1, 0, 1, 1, 1, 0, 1, 0, 1, 0, 1, 0, 1, 0, 0, 0, 0, 0, 0, 1, 0, 0,\n",
              "       0, 1, 0, 0, 0, 0, 1, 1, 0, 0, 1, 0, 0, 0, 1, 0, 1, 0, 1, 0, 0, 0,\n",
              "       0, 0, 0, 0, 1, 1, 1, 1, 0, 0, 0, 0, 1, 0, 0, 1, 1, 0, 0, 0, 0, 1,\n",
              "       1, 1, 1, 1, 0, 1, 0, 0, 0, 1, 1, 0, 1, 0, 0, 0, 1, 0, 1, 1, 0, 0,\n",
              "       1, 0, 0, 0, 0, 0, 0, 1, 0, 0, 1, 0, 1, 0, 1, 0, 0, 1, 0, 0, 1, 1,\n",
              "       0, 0, 1, 1, 0, 0, 0, 1, 0, 0, 1, 1, 0, 1, 0, 0, 0, 0, 0, 0, 0, 0,\n",
              "       1, 0, 0, 1, 0, 1, 1, 1, 0, 0, 0, 0, 1, 0, 1, 0, 0, 0, 0, 0, 0, 0,\n",
              "       1, 1, 0, 0, 0, 1, 1, 1, 1, 0, 0, 0, 0, 1, 0, 0, 0, 0, 0, 0, 0, 0,\n",
              "       0, 0, 1, 1, 0, 1, 0, 0, 0, 1, 1, 1, 1, 1, 0, 0, 0, 1, 0, 0, 1, 1,\n",
              "       0, 0, 1, 0, 0, 0, 0, 0, 0, 1, 0, 0, 0, 1, 0, 1, 1, 1, 1, 0, 0, 0,\n",
              "       1, 0, 0, 1, 1, 0, 0, 1, 0, 1, 0, 0, 1, 1, 0, 0, 0, 1, 1, 0, 0, 0,\n",
              "       0, 0, 0, 1, 0, 1, 0])"
            ]
          },
          "metadata": {},
          "execution_count": 16
        }
      ]
    },
    {
      "cell_type": "markdown",
      "source": [
        "# **Configurar el modelo**"
      ],
      "metadata": {
        "id": "7mV639qyqTA_"
      }
    },
    {
      "cell_type": "code",
      "source": [
        "model = LogisticRegression()"
      ],
      "metadata": {
        "id": "djIaIQZ4qWXx"
      },
      "execution_count": 17,
      "outputs": []
    },
    {
      "cell_type": "markdown",
      "source": [
        "# **Dividir en train y test**"
      ],
      "metadata": {
        "id": "1nIELlKIqZ0w"
      }
    },
    {
      "cell_type": "code",
      "source": [
        "X_train, X_test, y_train, y_test = train_test_split(X,y, test_size=0.2, random_state=1234)"
      ],
      "metadata": {
        "id": "08P7Sb3qqbp-"
      },
      "execution_count": 18,
      "outputs": []
    },
    {
      "cell_type": "code",
      "source": [
        "y_test"
      ],
      "metadata": {
        "colab": {
          "base_uri": "https://localhost:8080/",
          "height": 0
        },
        "id": "om3WFvi0qfuR",
        "outputId": "8136c708-4cc2-4357-d659-2badd7d7fc54"
      },
      "execution_count": 19,
      "outputs": [
        {
          "output_type": "execute_result",
          "data": {
            "text/plain": [
              "array([0, 0, 1, 0, 0, 0, 0, 1, 0, 1, 0, 1, 1, 0, 1, 0, 0, 0, 0, 0, 1, 1,\n",
              "       0, 0, 0, 0, 1, 1, 1, 0, 0, 1, 1, 1, 1, 0, 0, 0, 0, 0, 1, 1, 1, 0,\n",
              "       0, 0, 0, 0, 0, 0, 0, 0, 1, 1, 0, 0, 0, 0, 1, 0, 0, 1, 0, 1, 0, 0,\n",
              "       0, 0, 1, 0, 0, 1, 0, 1, 0, 0, 1, 0, 1, 0, 1, 0, 1, 0, 0, 0, 0, 0,\n",
              "       0, 1, 1, 0, 0, 0, 0, 1, 0, 0, 0, 0, 1, 0, 1, 1, 1, 1, 1, 0, 1, 1,\n",
              "       0, 1, 0, 0, 1, 0, 0, 0, 0, 1, 1, 1, 0, 0, 1, 1, 1, 0, 0, 1, 0, 0,\n",
              "       0, 0, 1, 0, 1, 0, 0, 1, 1, 0, 0, 0, 0, 0, 1, 0, 1, 1, 1, 0, 0, 1,\n",
              "       1, 0, 1, 1, 0, 1, 0, 0, 1, 1, 1, 0, 0, 0, 0, 0, 1, 0, 0, 0, 0, 0,\n",
              "       0, 1])"
            ]
          },
          "metadata": {},
          "execution_count": 19
        }
      ]
    },
    {
      "cell_type": "markdown",
      "source": [
        "# **Entrenar modelo**"
      ],
      "metadata": {
        "id": "ktXvHBYiqZpg"
      }
    },
    {
      "cell_type": "code",
      "source": [
        "model.fit(X_train, y_train)"
      ],
      "metadata": {
        "colab": {
          "base_uri": "https://localhost:8080/",
          "height": 0
        },
        "id": "ZsR42cVzqlLG",
        "outputId": "1fd41967-cdcb-46e9-df15-dcbbeb45a578"
      },
      "execution_count": 20,
      "outputs": [
        {
          "output_type": "execute_result",
          "data": {
            "text/plain": [
              "LogisticRegression()"
            ]
          },
          "metadata": {},
          "execution_count": 20
        }
      ]
    },
    {
      "cell_type": "markdown",
      "source": [
        "# **Predicciones**"
      ],
      "metadata": {
        "id": "R7Z850g6qqsF"
      }
    },
    {
      "cell_type": "code",
      "source": [
        "y_pred = model.predict(X_test)"
      ],
      "metadata": {
        "id": "BgpIu5mVqsij"
      },
      "execution_count": 21,
      "outputs": []
    },
    {
      "cell_type": "markdown",
      "source": [
        "# **Analizar las predicciones**"
      ],
      "metadata": {
        "id": "MjdkRr9wqxWJ"
      }
    },
    {
      "cell_type": "code",
      "source": [
        "X_test.shape"
      ],
      "metadata": {
        "colab": {
          "base_uri": "https://localhost:8080/",
          "height": 0
        },
        "id": "mnrW2TAlq1jz",
        "outputId": "b60249ef-9bec-49ab-947e-70cc92038521"
      },
      "execution_count": 22,
      "outputs": [
        {
          "output_type": "execute_result",
          "data": {
            "text/plain": [
              "(178, 6)"
            ]
          },
          "metadata": {},
          "execution_count": 22
        }
      ]
    },
    {
      "cell_type": "code",
      "source": [
        "X_test[0:7]"
      ],
      "metadata": {
        "colab": {
          "base_uri": "https://localhost:8080/",
          "height": 0
        },
        "id": "Zzoy2mhZq4fH",
        "outputId": "2325b923-ced6-456f-b9fc-c07e48ab68d1"
      },
      "execution_count": 23,
      "outputs": [
        {
          "output_type": "execute_result",
          "data": {
            "text/plain": [
              "array([[3, 19.0, 0, 0, 7.8958, True],\n",
              "       [3, 22.0, 0, 0, 7.8958, True],\n",
              "       [1, 47.0, 1, 1, 52.5542, False],\n",
              "       [2, 29.0, 0, 0, 10.5, True],\n",
              "       [3, 18.0, 0, 0, 7.7958, True],\n",
              "       [3, 39.0, 0, 0, 7.925, True],\n",
              "       [3, 14.0, 5, 2, 46.9, True]], dtype=object)"
            ]
          },
          "metadata": {},
          "execution_count": 23
        }
      ]
    },
    {
      "cell_type": "code",
      "source": [
        "y_test[0:7]"
      ],
      "metadata": {
        "colab": {
          "base_uri": "https://localhost:8080/",
          "height": 0
        },
        "id": "82O80TSuq7jg",
        "outputId": "8322ae0a-3846-4cdc-bdf3-40e522dbd1cc"
      },
      "execution_count": 24,
      "outputs": [
        {
          "output_type": "execute_result",
          "data": {
            "text/plain": [
              "array([0, 0, 1, 0, 0, 0, 0])"
            ]
          },
          "metadata": {},
          "execution_count": 24
        }
      ]
    },
    {
      "cell_type": "code",
      "source": [
        "y_pred[0:7]"
      ],
      "metadata": {
        "colab": {
          "base_uri": "https://localhost:8080/",
          "height": 0
        },
        "id": "4OFF5UANq84t",
        "outputId": "55d29d93-851a-4612-9244-2bcdfd549562"
      },
      "execution_count": 25,
      "outputs": [
        {
          "output_type": "execute_result",
          "data": {
            "text/plain": [
              "array([0, 0, 1, 0, 0, 0, 0])"
            ]
          },
          "metadata": {},
          "execution_count": 25
        }
      ]
    },
    {
      "cell_type": "markdown",
      "source": [
        "# **Probabilidad**"
      ],
      "metadata": {
        "id": "Z0_lBhIKrA2K"
      }
    },
    {
      "cell_type": "code",
      "source": [
        "model.predict_proba(X_test)[:,0]"
      ],
      "metadata": {
        "colab": {
          "base_uri": "https://localhost:8080/",
          "height": 0
        },
        "id": "wIskfVrHrEeA",
        "outputId": "f8482717-1c69-4dc7-9eb7-d3dc4cc6a566"
      },
      "execution_count": 26,
      "outputs": [
        {
          "output_type": "execute_result",
          "data": {
            "text/plain": [
              "array([0.85750024, 0.87163322, 0.15653626, 0.74869022, 0.852539  ,\n",
              "       0.93085628, 0.95608705, 0.18144388, 0.94066414, 0.07951965,\n",
              "       0.89632751, 0.91037562, 0.29282373, 0.72591669, 0.48655704,\n",
              "       0.87166001, 0.13670495, 0.71597703, 0.93827604, 0.75619016,\n",
              "       0.23757079, 0.78363573, 0.35422468, 0.31831598, 0.34631028,\n",
              "       0.33594669, 0.67204702, 0.27631627, 0.39880546, 0.64460037,\n",
              "       0.89997666, 0.19615527, 0.1018199 , 0.1778387 , 0.2634761 ,\n",
              "       0.90711203, 0.87159192, 0.87163322, 0.86739194, 0.6312331 ,\n",
              "       0.90040994, 0.04206009, 0.07530612, 0.27048188, 0.93096021,\n",
              "       0.90354336, 0.89383097, 0.88698135, 0.82783118, 0.91359925,\n",
              "       0.9382899 , 0.88707112, 0.88599459, 0.47838612, 0.92273844,\n",
              "       0.92427302, 0.65537161, 0.90371014, 0.06654667, 0.92723868,\n",
              "       0.46961866, 0.03972561, 0.57490544, 0.43086134, 0.65618217,\n",
              "       0.96340824, 0.98218192, 0.94499647, 0.17100465, 0.88459089,\n",
              "       0.87607145, 0.16438261, 0.9000359 , 0.13081525, 0.85754897,\n",
              "       0.49428304, 0.84204404, 0.79702622, 0.27630828, 0.8670935 ,\n",
              "       0.20890976, 0.91398892, 0.06280439, 0.89252572, 0.86490309,\n",
              "       0.91986632, 0.96104123, 0.42133551, 0.94352064, 0.18099706,\n",
              "       0.16926354, 0.87167562, 0.74452586, 0.92447493, 0.87607145,\n",
              "       0.33597115, 0.96791762, 0.782877  , 0.91972062, 0.87163322,\n",
              "       0.12821891, 0.91401474, 0.85745513, 0.85903743, 0.89996319,\n",
              "       0.03681221, 0.1801056 , 0.66074471, 0.52801354, 0.54883785,\n",
              "       0.93096402, 0.0620483 , 0.55920482, 0.93813552, 0.11622984,\n",
              "       0.83328688, 0.94681429, 0.89252572, 0.89597011, 0.08535999,\n",
              "       0.04801702, 0.17574534, 0.37654233, 0.94051368, 0.89448363,\n",
              "       0.32711639, 0.24692265, 0.73206475, 0.95445923, 0.27627037,\n",
              "       0.88290184, 0.42084117, 0.31841988, 0.93948936, 0.48678364,\n",
              "       0.68227214, 0.84676354, 0.90155645, 0.91669696, 0.88069505,\n",
              "       0.2592758 , 0.62532877, 0.44405005, 0.85238719, 0.63916041,\n",
              "       0.51441146, 0.32711639, 0.85056564, 0.35571444, 0.08845365,\n",
              "       0.21933071, 0.77304909, 0.40726361, 0.32098828, 0.06446274,\n",
              "       0.77354396, 0.0390354 , 0.35471754, 0.9198972 , 0.88056726,\n",
              "       0.95072668, 0.82783118, 0.07762679, 0.52718363, 0.56853549,\n",
              "       0.91039597, 0.90360029, 0.71597703, 0.84204404, 0.93350743,\n",
              "       0.91033737, 0.90000988, 0.68882935, 0.938177  , 0.56853248,\n",
              "       0.38224895, 0.85754288, 0.29622035])"
            ]
          },
          "metadata": {},
          "execution_count": 26
        }
      ]
    },
    {
      "cell_type": "code",
      "source": [
        "model.predict_proba(X_test)[:,1]"
      ],
      "metadata": {
        "colab": {
          "base_uri": "https://localhost:8080/",
          "height": 0
        },
        "id": "rgGiG1cMrHvf",
        "outputId": "127ae265-e773-4421-c0a9-42933551da68"
      },
      "execution_count": 27,
      "outputs": [
        {
          "output_type": "execute_result",
          "data": {
            "text/plain": [
              "array([0.14249976, 0.12836678, 0.84346374, 0.25130978, 0.147461  ,\n",
              "       0.06914372, 0.04391295, 0.81855612, 0.05933586, 0.92048035,\n",
              "       0.10367249, 0.08962438, 0.70717627, 0.27408331, 0.51344296,\n",
              "       0.12833999, 0.86329505, 0.28402297, 0.06172396, 0.24380984,\n",
              "       0.76242921, 0.21636427, 0.64577532, 0.68168402, 0.65368972,\n",
              "       0.66405331, 0.32795298, 0.72368373, 0.60119454, 0.35539963,\n",
              "       0.10002334, 0.80384473, 0.8981801 , 0.8221613 , 0.7365239 ,\n",
              "       0.09288797, 0.12840808, 0.12836678, 0.13260806, 0.3687669 ,\n",
              "       0.09959006, 0.95793991, 0.92469388, 0.72951812, 0.06903979,\n",
              "       0.09645664, 0.10616903, 0.11301865, 0.17216882, 0.08640075,\n",
              "       0.0617101 , 0.11292888, 0.11400541, 0.52161388, 0.07726156,\n",
              "       0.07572698, 0.34462839, 0.09628986, 0.93345333, 0.07276132,\n",
              "       0.53038134, 0.96027439, 0.42509456, 0.56913866, 0.34381783,\n",
              "       0.03659176, 0.01781808, 0.05500353, 0.82899535, 0.11540911,\n",
              "       0.12392855, 0.83561739, 0.0999641 , 0.86918475, 0.14245103,\n",
              "       0.50571696, 0.15795596, 0.20297378, 0.72369172, 0.1329065 ,\n",
              "       0.79109024, 0.08601108, 0.93719561, 0.10747428, 0.13509691,\n",
              "       0.08013368, 0.03895877, 0.57866449, 0.05647936, 0.81900294,\n",
              "       0.83073646, 0.12832438, 0.25547414, 0.07552507, 0.12392855,\n",
              "       0.66402885, 0.03208238, 0.217123  , 0.08027938, 0.12836678,\n",
              "       0.87178109, 0.08598526, 0.14254487, 0.14096257, 0.10003681,\n",
              "       0.96318779, 0.8198944 , 0.33925529, 0.47198646, 0.45116215,\n",
              "       0.06903598, 0.9379517 , 0.44079518, 0.06186448, 0.88377016,\n",
              "       0.16671312, 0.05318571, 0.10747428, 0.10402989, 0.91464001,\n",
              "       0.95198298, 0.82425466, 0.62345767, 0.05948632, 0.10551637,\n",
              "       0.67288361, 0.75307735, 0.26793525, 0.04554077, 0.72372963,\n",
              "       0.11709816, 0.57915883, 0.68158012, 0.06051064, 0.51321636,\n",
              "       0.31772786, 0.15323646, 0.09844355, 0.08330304, 0.11930495,\n",
              "       0.7407242 , 0.37467123, 0.55594995, 0.14761281, 0.36083959,\n",
              "       0.48558854, 0.67288361, 0.14943436, 0.64428556, 0.91154635,\n",
              "       0.78066929, 0.22695091, 0.59273639, 0.67901172, 0.93553726,\n",
              "       0.22645604, 0.9609646 , 0.64528246, 0.0801028 , 0.11943274,\n",
              "       0.04927332, 0.17216882, 0.92237321, 0.47281637, 0.43146451,\n",
              "       0.08960403, 0.09639971, 0.28402297, 0.15795596, 0.06649257,\n",
              "       0.08966263, 0.09999012, 0.31117065, 0.061823  , 0.43146752,\n",
              "       0.61775105, 0.14245712, 0.70377965])"
            ]
          },
          "metadata": {},
          "execution_count": 27
        }
      ]
    },
    {
      "cell_type": "code",
      "source": [
        "y_pred[:]"
      ],
      "metadata": {
        "colab": {
          "base_uri": "https://localhost:8080/",
          "height": 0
        },
        "id": "7zHqKJyNrK5C",
        "outputId": "a82bb08a-3888-4542-ef62-d3af2e18430e"
      },
      "execution_count": 28,
      "outputs": [
        {
          "output_type": "execute_result",
          "data": {
            "text/plain": [
              "array([0, 0, 1, 0, 0, 0, 0, 1, 0, 1, 0, 0, 1, 0, 1, 0, 1, 0, 0, 0, 1, 0,\n",
              "       1, 1, 1, 1, 0, 1, 1, 0, 0, 1, 1, 1, 1, 0, 0, 0, 0, 0, 0, 1, 1, 1,\n",
              "       0, 0, 0, 0, 0, 0, 0, 0, 0, 1, 0, 0, 0, 0, 1, 0, 1, 1, 0, 1, 0, 0,\n",
              "       0, 0, 1, 0, 0, 1, 0, 1, 0, 1, 0, 0, 1, 0, 1, 0, 1, 0, 0, 0, 0, 1,\n",
              "       0, 1, 1, 0, 0, 0, 0, 1, 0, 0, 0, 0, 1, 0, 0, 0, 0, 1, 1, 0, 0, 0,\n",
              "       0, 1, 0, 0, 1, 0, 0, 0, 0, 1, 1, 1, 1, 0, 0, 1, 1, 0, 0, 1, 0, 1,\n",
              "       1, 0, 1, 0, 0, 0, 0, 0, 1, 0, 1, 0, 0, 0, 1, 0, 1, 1, 1, 0, 1, 1,\n",
              "       1, 0, 1, 1, 0, 0, 0, 0, 1, 0, 0, 0, 0, 0, 0, 0, 0, 0, 0, 0, 0, 1,\n",
              "       0, 1])"
            ]
          },
          "metadata": {},
          "execution_count": 28
        }
      ]
    },
    {
      "cell_type": "code",
      "source": [
        "y.shape"
      ],
      "metadata": {
        "colab": {
          "base_uri": "https://localhost:8080/",
          "height": 0
        },
        "id": "wgryl0u1rQDH",
        "outputId": "f821c75b-87ce-46d3-e66c-f9a66f31f512"
      },
      "execution_count": 29,
      "outputs": [
        {
          "output_type": "execute_result",
          "data": {
            "text/plain": [
              "(887,)"
            ]
          },
          "metadata": {},
          "execution_count": 29
        }
      ]
    },
    {
      "cell_type": "markdown",
      "source": [
        "Sobrevivientes"
      ],
      "metadata": {
        "id": "5WpsLS5nrUt4"
      }
    },
    {
      "cell_type": "code",
      "source": [
        "y.sum()"
      ],
      "metadata": {
        "colab": {
          "base_uri": "https://localhost:8080/",
          "height": 0
        },
        "id": "1TL2nTzurTHe",
        "outputId": "2c9dd60b-3d8e-4850-a4ff-bcc47ab69534"
      },
      "execution_count": 30,
      "outputs": [
        {
          "output_type": "execute_result",
          "data": {
            "text/plain": [
              "342"
            ]
          },
          "metadata": {},
          "execution_count": 30
        }
      ]
    },
    {
      "cell_type": "markdown",
      "source": [
        "No Sobrevivientes"
      ],
      "metadata": {
        "id": "wUv77NrUrZlp"
      }
    },
    {
      "cell_type": "code",
      "source": [
        "y.shape - y.sum()"
      ],
      "metadata": {
        "colab": {
          "base_uri": "https://localhost:8080/",
          "height": 0
        },
        "id": "GJkENhLyrbTO",
        "outputId": "73d192d4-d4a8-4b45-e10c-9ff0761d7d18"
      },
      "execution_count": 31,
      "outputs": [
        {
          "output_type": "execute_result",
          "data": {
            "text/plain": [
              "array([545])"
            ]
          },
          "metadata": {},
          "execution_count": 31
        }
      ]
    },
    {
      "cell_type": "markdown",
      "source": [
        "# **Métricas**"
      ],
      "metadata": {
        "id": "jlU4lOlYriBs"
      }
    },
    {
      "cell_type": "code",
      "source": [
        "y_pred == y_test"
      ],
      "metadata": {
        "colab": {
          "base_uri": "https://localhost:8080/",
          "height": 0
        },
        "id": "ZuWzM7eyrk41",
        "outputId": "db8f7682-c5e5-402d-cd3b-d46a920a23bc"
      },
      "execution_count": 32,
      "outputs": [
        {
          "output_type": "execute_result",
          "data": {
            "text/plain": [
              "array([ True,  True,  True,  True,  True,  True,  True,  True,  True,\n",
              "        True,  True, False,  True,  True,  True,  True, False,  True,\n",
              "        True,  True,  True, False, False, False, False, False, False,\n",
              "        True,  True,  True,  True,  True,  True,  True,  True,  True,\n",
              "        True,  True,  True,  True, False,  True,  True, False,  True,\n",
              "        True,  True,  True,  True,  True,  True,  True, False,  True,\n",
              "        True,  True,  True,  True,  True,  True, False,  True,  True,\n",
              "        True,  True,  True,  True,  True,  True,  True,  True,  True,\n",
              "        True,  True,  True, False, False,  True,  True,  True,  True,\n",
              "        True,  True,  True,  True,  True,  True, False,  True,  True,\n",
              "        True,  True,  True,  True,  True,  True,  True,  True,  True,\n",
              "        True,  True,  True, False, False, False,  True,  True,  True,\n",
              "       False, False,  True,  True,  True,  True,  True,  True,  True,\n",
              "        True,  True,  True,  True,  True, False,  True, False,  True,\n",
              "        True,  True,  True,  True,  True, False, False,  True,  True,\n",
              "        True, False,  True,  True, False,  True,  True, False,  True,\n",
              "        True,  True,  True,  True,  True,  True,  True,  True, False,\n",
              "        True,  True,  True,  True,  True,  True, False,  True,  True,\n",
              "        True, False, False,  True,  True,  True,  True,  True, False,\n",
              "        True,  True,  True,  True, False,  True,  True])"
            ]
          },
          "metadata": {},
          "execution_count": 32
        }
      ]
    },
    {
      "cell_type": "code",
      "source": [
        "(y_pred == y_test).sum()"
      ],
      "metadata": {
        "colab": {
          "base_uri": "https://localhost:8080/",
          "height": 0
        },
        "id": "mv_1_iTBroOt",
        "outputId": "92065736-7aa2-42e5-f509-84092329e3b0"
      },
      "execution_count": 33,
      "outputs": [
        {
          "output_type": "execute_result",
          "data": {
            "text/plain": [
              "145"
            ]
          },
          "metadata": {},
          "execution_count": 33
        }
      ]
    },
    {
      "cell_type": "code",
      "source": [
        "y_test.shape"
      ],
      "metadata": {
        "colab": {
          "base_uri": "https://localhost:8080/",
          "height": 0
        },
        "id": "1Jf-U3oerqsq",
        "outputId": "bef37457-917e-43b8-91a9-5294e47b25cd"
      },
      "execution_count": 34,
      "outputs": [
        {
          "output_type": "execute_result",
          "data": {
            "text/plain": [
              "(178,)"
            ]
          },
          "metadata": {},
          "execution_count": 34
        }
      ]
    },
    {
      "cell_type": "code",
      "source": [
        "accuracy = (y_pred == y_test).sum() / y_test.shape\n",
        "accuracy"
      ],
      "metadata": {
        "colab": {
          "base_uri": "https://localhost:8080/",
          "height": 0
        },
        "id": "4yIikGaZrtbJ",
        "outputId": "5d9f3d55-45f0-4de0-b48b-eea98057ecc3"
      },
      "execution_count": 35,
      "outputs": [
        {
          "output_type": "execute_result",
          "data": {
            "text/plain": [
              "array([0.81460674])"
            ]
          },
          "metadata": {},
          "execution_count": 35
        }
      ]
    },
    {
      "cell_type": "markdown",
      "source": [
        "# **Matriz de confusión**"
      ],
      "metadata": {
        "id": "0mAKTS0sruoV"
      }
    },
    {
      "cell_type": "code",
      "source": [
        "confusion_matrix(y_test,y_pred)"
      ],
      "metadata": {
        "colab": {
          "base_uri": "https://localhost:8080/",
          "height": 0
        },
        "id": "Fra5eg3UryA6",
        "outputId": "551f66d7-3655-4809-9dee-9f92707a319c"
      },
      "execution_count": 36,
      "outputs": [
        {
          "output_type": "execute_result",
          "data": {
            "text/plain": [
              "array([[95, 15],\n",
              "       [18, 50]])"
            ]
          },
          "metadata": {},
          "execution_count": 36
        }
      ]
    },
    {
      "cell_type": "code",
      "source": [
        "plot_confusion_matrix(model,X_test,y_test)"
      ],
      "metadata": {
        "colab": {
          "base_uri": "https://localhost:8080/",
          "height": 351
        },
        "id": "IFVUDvjmr04A",
        "outputId": "db96f9ed-fd35-43cb-b811-4320fbc849ce"
      },
      "execution_count": 37,
      "outputs": [
        {
          "output_type": "stream",
          "name": "stderr",
          "text": [
            "/usr/local/lib/python3.7/dist-packages/sklearn/utils/deprecation.py:87: FutureWarning: Function plot_confusion_matrix is deprecated; Function `plot_confusion_matrix` is deprecated in 1.0 and will be removed in 1.2. Use one of the class methods: ConfusionMatrixDisplay.from_predictions or ConfusionMatrixDisplay.from_estimator.\n",
            "  warnings.warn(msg, category=FutureWarning)\n"
          ]
        },
        {
          "output_type": "execute_result",
          "data": {
            "text/plain": [
              "<sklearn.metrics._plot.confusion_matrix.ConfusionMatrixDisplay at 0x7f10cc9fe590>"
            ]
          },
          "metadata": {},
          "execution_count": 37
        },
        {
          "output_type": "display_data",
          "data": {
            "image/png": "[encoded data removed]",
            "text/plain": [
              "<Figure size 432x288 with 2 Axes>"
            ]
          },
          "metadata": {
            "needs_background": "light"
          }
        }
      ]
    },
    {
      "cell_type": "code",
      "source": [
        "labels = [\"Not survived\", \"Survived\"]\n",
        "plot_confusion_matrix(model,X_test,y_test, display_labels=labels)"
      ],
      "metadata": {
        "colab": {
          "base_uri": "https://localhost:8080/",
          "height": 351
        },
        "id": "FwAxPyKyr6zy",
        "outputId": "eec49202-a5af-45fc-bab4-bc1ba29cbbeb"
      },
      "execution_count": 38,
      "outputs": [
        {
          "output_type": "stream",
          "name": "stderr",
          "text": [
            "/usr/local/lib/python3.7/dist-packages/sklearn/utils/deprecation.py:87: FutureWarning: Function plot_confusion_matrix is deprecated; Function `plot_confusion_matrix` is deprecated in 1.0 and will be removed in 1.2. Use one of the class methods: ConfusionMatrixDisplay.from_predictions or ConfusionMatrixDisplay.from_estimator.\n",
            "  warnings.warn(msg, category=FutureWarning)\n"
          ]
        },
        {
          "output_type": "execute_result",
          "data": {
            "text/plain": [
              "<sklearn.metrics._plot.confusion_matrix.ConfusionMatrixDisplay at 0x7f10cca08e10>"
            ]
          },
          "metadata": {},
          "execution_count": 38
        },
        {
          "output_type": "display_data",
          "data": {
            "image/png": "[encoded data removed]",
            "text/plain": [
              "<Figure size 432x288 with 2 Axes>"
            ]
          },
          "metadata": {
            "needs_background": "light"
          }
        }
      ]
    },
    {
      "cell_type": "code",
      "source": [
        "labels = [\"Not survived\", \"Survived\"]\n",
        "print(classification_report(y_test,y_pred, target_names=labels))"
      ],
      "metadata": {
        "colab": {
          "base_uri": "https://localhost:8080/",
          "height": 0
        },
        "id": "oVS7BZP5r-3g",
        "outputId": "aa34c8fc-6257-4204-a25b-ac14d22bb3b2"
      },
      "execution_count": 39,
      "outputs": [
        {
          "output_type": "stream",
          "name": "stdout",
          "text": [
            "              precision    recall  f1-score   support\n",
            "\n",
            "Not survived       0.84      0.86      0.85       110\n",
            "    Survived       0.77      0.74      0.75        68\n",
            "\n",
            "    accuracy                           0.81       178\n",
            "   macro avg       0.80      0.80      0.80       178\n",
            "weighted avg       0.81      0.81      0.81       178\n",
            "\n"
          ]
        }
      ]
    },
    {
      "cell_type": "markdown",
      "source": [
        "# **Accuracy de la Confusión Matrix**\n",
        "accuracy = suma de predicciones correctas / total de predicciones"
      ],
      "metadata": {
        "id": "B2Eqe15ssECi"
      }
    },
    {
      "cell_type": "code",
      "source": [
        "accuracy = (95 + 50) / (95 + 50 + 15 +18)\n",
        "accuracy"
      ],
      "metadata": {
        "colab": {
          "base_uri": "https://localhost:8080/",
          "height": 0
        },
        "id": "VtfjMtC9sDZ-",
        "outputId": "aa753978-9111-4dc6-9fd2-fa697368ece4"
      },
      "execution_count": 40,
      "outputs": [
        {
          "output_type": "execute_result",
          "data": {
            "text/plain": [
              "0.8146067415730337"
            ]
          },
          "metadata": {},
          "execution_count": 40
        }
      ]
    },
    {
      "cell_type": "markdown",
      "source": [
        "# **Precisión**\n",
        "¿Qué proporción de identificaciones positivas fue realmente correcta?\n",
        "\n",
        "precision = positivos predichos / predicciones positivas"
      ],
      "metadata": {
        "id": "A-qzIePWsKun"
      }
    },
    {
      "cell_type": "code",
      "source": [
        "precision = 50 / (50 + 15)\n",
        "precision"
      ],
      "metadata": {
        "colab": {
          "base_uri": "https://localhost:8080/",
          "height": 0
        },
        "id": "GX0y9CyDsM5p",
        "outputId": "5c7b8a62-6b04-4561-8ea7-ec8111f92f3d"
      },
      "execution_count": 41,
      "outputs": [
        {
          "output_type": "execute_result",
          "data": {
            "text/plain": [
              "0.7692307692307693"
            ]
          },
          "metadata": {},
          "execution_count": 41
        }
      ]
    },
    {
      "cell_type": "markdown",
      "source": [
        "# **Recall**\n",
        "¿Qué proporcion de positivos reales se identifico correctamente?\n",
        "\n",
        "recall = True positive / (True positive + False Negative)"
      ],
      "metadata": {
        "id": "ri3T1n7usQqO"
      }
    },
    {
      "cell_type": "code",
      "source": [
        "recall = 50 / (50 +18)\n",
        "recall"
      ],
      "metadata": {
        "colab": {
          "base_uri": "https://localhost:8080/",
          "height": 0
        },
        "id": "UIqbBESssWgD",
        "outputId": "da722172-8821-49d8-f32a-10dc95817b97"
      },
      "execution_count": 42,
      "outputs": [
        {
          "output_type": "execute_result",
          "data": {
            "text/plain": [
              "0.7352941176470589"
            ]
          },
          "metadata": {},
          "execution_count": 42
        }
      ]
    },
    {
      "cell_type": "markdown",
      "source": [
        "# **F1 Score**\n",
        "Es el promedio de precisión y recall\n",
        "\n",
        "f1_score = 2 ((precision recall) / (precision + recall)"
      ],
      "metadata": {
        "id": "amezjlyCsapp"
      }
    },
    {
      "cell_type": "code",
      "source": [
        "f1 = 2 * ((precision * recall) / (precision + recall))\n",
        "f1"
      ],
      "metadata": {
        "colab": {
          "base_uri": "https://localhost:8080/",
          "height": 0
        },
        "id": "_u_2Q_WEscmw",
        "outputId": "cc51c8ac-a765-4fdd-e5d3-896da5ff2b65"
      },
      "execution_count": 43,
      "outputs": [
        {
          "output_type": "execute_result",
          "data": {
            "text/plain": [
              "0.7518796992481205"
            ]
          },
          "metadata": {},
          "execution_count": 43
        }
      ]
    },
    {
      "cell_type": "markdown",
      "source": [
        "# **SKLearn Metrics**"
      ],
      "metadata": {
        "id": "srCgk5Uwshkl"
      }
    },
    {
      "cell_type": "code",
      "source": [
        "print(\"Accuracy: {} : {}\".format(accuracy,accuracy_score(y_test,y_pred)))"
      ],
      "metadata": {
        "colab": {
          "base_uri": "https://localhost:8080/",
          "height": 0
        },
        "id": "-hM9Nhu4sjPh",
        "outputId": "c4c015a3-8ace-449c-82cb-398e75f7360f"
      },
      "execution_count": 44,
      "outputs": [
        {
          "output_type": "stream",
          "name": "stdout",
          "text": [
            "Accuracy: 0.8146067415730337 : 0.8146067415730337\n"
          ]
        }
      ]
    },
    {
      "cell_type": "code",
      "source": [
        "print(\"Precisión: {} : {}\".format(precision,precision_score(y_test,y_pred)))"
      ],
      "metadata": {
        "colab": {
          "base_uri": "https://localhost:8080/",
          "height": 0
        },
        "id": "WaxMTG_HsnKY",
        "outputId": "c9cad3f8-7b01-45f2-9aae-1c47da5a0f51"
      },
      "execution_count": 45,
      "outputs": [
        {
          "output_type": "stream",
          "name": "stdout",
          "text": [
            "Precisión: 0.7692307692307693 : 0.7692307692307693\n"
          ]
        }
      ]
    },
    {
      "cell_type": "code",
      "source": [
        "print(\"Recall: {} : {}\".format(recall,recall_score(y_test,y_pred)))"
      ],
      "metadata": {
        "colab": {
          "base_uri": "https://localhost:8080/",
          "height": 0
        },
        "id": "RE8u9u1LspA6",
        "outputId": "1e10163a-c671-41de-8a7a-b162abf49569"
      },
      "execution_count": 46,
      "outputs": [
        {
          "output_type": "stream",
          "name": "stdout",
          "text": [
            "Recall: 0.7352941176470589 : 0.7352941176470589\n"
          ]
        }
      ]
    },
    {
      "cell_type": "code",
      "source": [
        "print(\"F1 Score: {} : {}\".format(f1,f1_score(y_test,y_pred)))"
      ],
      "metadata": {
        "colab": {
          "base_uri": "https://localhost:8080/",
          "height": 0
        },
        "id": "AWssQR0rsrjh",
        "outputId": "acd32066-6871-449d-b5e0-ea5eadbed2ce"
      },
      "execution_count": 47,
      "outputs": [
        {
          "output_type": "stream",
          "name": "stdout",
          "text": [
            "F1 Score: 0.7518796992481205 : 0.7518796992481205\n"
          ]
        }
      ]
    },
    {
      "cell_type": "code",
      "source": [
        "print(classification_report(y_test,y_pred))"
      ],
      "metadata": {
        "colab": {
          "base_uri": "https://localhost:8080/",
          "height": 0
        },
        "id": "aatPneDPst_e",
        "outputId": "a99eacd7-65a5-42aa-9531-66a2485a16d0"
      },
      "execution_count": 48,
      "outputs": [
        {
          "output_type": "stream",
          "name": "stdout",
          "text": [
            "              precision    recall  f1-score   support\n",
            "\n",
            "           0       0.84      0.86      0.85       110\n",
            "           1       0.77      0.74      0.75        68\n",
            "\n",
            "    accuracy                           0.81       178\n",
            "   macro avg       0.80      0.80      0.80       178\n",
            "weighted avg       0.81      0.81      0.81       178\n",
            "\n"
          ]
        }
      ]
    },
    {
      "cell_type": "markdown",
      "source": [
        "# **Cambiar el umbral (Threshold)**"
      ],
      "metadata": {
        "id": "udfTDTq1szQM"
      }
    },
    {
      "cell_type": "code",
      "source": [
        "y_pred=model.predict_proba(X_test)[:,1] > 0.75"
      ],
      "metadata": {
        "id": "D_m7YFG2s7qa"
      },
      "execution_count": 49,
      "outputs": []
    },
    {
      "cell_type": "code",
      "source": [
        "print(classification_report(y_test,y_pred))"
      ],
      "metadata": {
        "colab": {
          "base_uri": "https://localhost:8080/",
          "height": 0
        },
        "id": "8J8cUZLts_mJ",
        "outputId": "34a6c80b-7bca-4fa2-948e-5be176094463"
      },
      "execution_count": 50,
      "outputs": [
        {
          "output_type": "stream",
          "name": "stdout",
          "text": [
            "              precision    recall  f1-score   support\n",
            "\n",
            "           0       0.75      0.99      0.85       110\n",
            "           1       0.97      0.47      0.63        68\n",
            "\n",
            "    accuracy                           0.79       178\n",
            "   macro avg       0.86      0.73      0.74       178\n",
            "weighted avg       0.83      0.79      0.77       178\n",
            "\n"
          ]
        }
      ]
    },
    {
      "cell_type": "markdown",
      "source": [
        "# **Conclusión**\n",
        "\n",
        "Como conclusión al terminar esta actividad es que cada vez el manejo de los datos es muy importante.\n",
        "\n",
        "En lo personal cada vez los actividades voy aprendiedo un poco más el manejo de los datos y son temas de suma importancias, que por consecuencia son un poco más complicados, pero aprendemos muchisimo."
      ],
      "metadata": {
        "id": "hbNtTi6EtBP_"
      }
    }
  ]
}